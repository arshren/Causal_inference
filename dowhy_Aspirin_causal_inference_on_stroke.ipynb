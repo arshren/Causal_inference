{
 "cells": [
  {
   "cell_type": "code",
   "execution_count": 1,
   "id": "997b02d2",
   "metadata": {},
   "outputs": [],
   "source": [
    "from dowhy import CausalModel\n",
    "import numpy as np\n",
    "import pandas as pd\n",
    "import matplotlib.pyplot as plt"
   ]
  },
  {
   "cell_type": "markdown",
   "id": "9aa8cddb",
   "metadata": {},
   "source": [
    "## Generate synthetic data"
   ]
  },
  {
   "cell_type": "code",
   "execution_count": 2,
   "id": "4a308a93",
   "metadata": {},
   "outputs": [
    {
     "data": {
      "text/html": [
       "<div>\n",
       "<style scoped>\n",
       "    .dataframe tbody tr th:only-of-type {\n",
       "        vertical-align: middle;\n",
       "    }\n",
       "\n",
       "    .dataframe tbody tr th {\n",
       "        vertical-align: top;\n",
       "    }\n",
       "\n",
       "    .dataframe thead th {\n",
       "        text-align: right;\n",
       "    }\n",
       "</style>\n",
       "<table border=\"1\" class=\"dataframe\">\n",
       "  <thead>\n",
       "    <tr style=\"text-align: right;\">\n",
       "      <th></th>\n",
       "      <th>AGE</th>\n",
       "      <th>HEART DISEASE</th>\n",
       "      <th>ASPIRIN</th>\n",
       "      <th>STROKE</th>\n",
       "    </tr>\n",
       "  </thead>\n",
       "  <tbody>\n",
       "    <tr>\n",
       "      <th>0</th>\n",
       "      <td>50</td>\n",
       "      <td>1</td>\n",
       "      <td>1</td>\n",
       "      <td>0</td>\n",
       "    </tr>\n",
       "    <tr>\n",
       "      <th>2</th>\n",
       "      <td>52</td>\n",
       "      <td>1</td>\n",
       "      <td>0</td>\n",
       "      <td>0</td>\n",
       "    </tr>\n",
       "    <tr>\n",
       "      <th>4</th>\n",
       "      <td>28</td>\n",
       "      <td>2</td>\n",
       "      <td>1</td>\n",
       "      <td>0</td>\n",
       "    </tr>\n",
       "    <tr>\n",
       "      <th>6</th>\n",
       "      <td>44</td>\n",
       "      <td>3</td>\n",
       "      <td>1</td>\n",
       "      <td>0</td>\n",
       "    </tr>\n",
       "    <tr>\n",
       "      <th>9</th>\n",
       "      <td>28</td>\n",
       "      <td>3</td>\n",
       "      <td>0</td>\n",
       "      <td>0</td>\n",
       "    </tr>\n",
       "    <tr>\n",
       "      <th>...</th>\n",
       "      <td>...</td>\n",
       "      <td>...</td>\n",
       "      <td>...</td>\n",
       "      <td>...</td>\n",
       "    </tr>\n",
       "    <tr>\n",
       "      <th>988</th>\n",
       "      <td>41</td>\n",
       "      <td>2</td>\n",
       "      <td>0</td>\n",
       "      <td>0</td>\n",
       "    </tr>\n",
       "    <tr>\n",
       "      <th>992</th>\n",
       "      <td>18</td>\n",
       "      <td>2</td>\n",
       "      <td>1</td>\n",
       "      <td>0</td>\n",
       "    </tr>\n",
       "    <tr>\n",
       "      <th>993</th>\n",
       "      <td>32</td>\n",
       "      <td>0</td>\n",
       "      <td>0</td>\n",
       "      <td>0</td>\n",
       "    </tr>\n",
       "    <tr>\n",
       "      <th>995</th>\n",
       "      <td>30</td>\n",
       "      <td>0</td>\n",
       "      <td>0</td>\n",
       "      <td>0</td>\n",
       "    </tr>\n",
       "    <tr>\n",
       "      <th>997</th>\n",
       "      <td>18</td>\n",
       "      <td>1</td>\n",
       "      <td>0</td>\n",
       "      <td>0</td>\n",
       "    </tr>\n",
       "  </tbody>\n",
       "</table>\n",
       "<p>511 rows × 4 columns</p>\n",
       "</div>"
      ],
      "text/plain": [
       "     AGE  HEART DISEASE  ASPIRIN  STROKE\n",
       "0     50              1        1       0\n",
       "2     52              1        0       0\n",
       "4     28              2        1       0\n",
       "6     44              3        1       0\n",
       "9     28              3        0       0\n",
       "..   ...            ...      ...     ...\n",
       "988   41              2        0       0\n",
       "992   18              2        1       0\n",
       "993   32              0        0       0\n",
       "995   30              0        0       0\n",
       "997   18              1        0       0\n",
       "\n",
       "[511 rows x 4 columns]"
      ]
     },
     "execution_count": 2,
     "metadata": {},
     "output_type": "execute_result"
    }
   ],
   "source": [
    "data_size = 1000\n",
    "data = pd.DataFrame({\n",
    "    'AGE': np.random.randint(18, 65, data_size),\n",
    "    'HEART DISEASE': np.random.randint(0, 5, data_size),\n",
    "    'ASPIRIN': np.random.randint(0, 2, data_size)\n",
    "})\n",
    "data['STROKE'] =  np.random.randint(0,2, data_size) \n",
    "data.loc[(data['STROKE']==0)]"
   ]
  },
  {
   "cell_type": "code",
   "execution_count": 3,
   "id": "5d2d5d9f",
   "metadata": {},
   "outputs": [
    {
     "data": {
      "image/png": "[encoded data removed]",
      "text/plain": [
       "<Figure size 800x600 with 1 Axes>"
      ]
     },
     "metadata": {},
     "output_type": "display_data"
    }
   ],
   "source": [
    "# Define the causal model\n",
    "model = CausalModel(\n",
    "    data=data,\n",
    "    treatment='ASPIRIN',\n",
    "    outcome='STROKE',\n",
    "    common_causes=[ 'HEART DISEASE']\n",
    ")\n",
    "model.view_model(layout=\"dot\")"
   ]
  },
  {
   "cell_type": "markdown",
   "id": "78345503",
   "metadata": {},
   "source": [
    "## Causal discovery can be used when a  given dataset's causal structure is unknown"
   ]
  },
  {
   "cell_type": "markdown",
   "id": "2df53d11",
   "metadata": {},
   "source": [
    "## Step 2: Identify the Target estimate"
   ]
  },
  {
   "cell_type": "code",
   "execution_count": 4,
   "id": "ea180968",
   "metadata": {},
   "outputs": [
    {
     "name": "stdout",
     "output_type": "stream",
     "text": [
      "Estimand type: EstimandType.NONPARAMETRIC_ATE\n",
      "\n",
      "### Estimand : 1\n",
      "Estimand name: backdoor\n",
      "Estimand expression:\n",
      "    d                              \n",
      "──────────(E[STROKE|HEART DISEASE])\n",
      "d[ASPIRIN]                         \n",
      "Estimand assumption 1, Unconfoundedness: If U→{ASPIRIN} and U→STROKE then P(STROKE|ASPIRIN,HEART DISEASE,U) = P(STROKE|ASPIRIN,HEART DISEASE)\n",
      "\n",
      "### Estimand : 2\n",
      "Estimand name: iv\n",
      "No such variable(s) found!\n",
      "\n",
      "### Estimand : 3\n",
      "Estimand name: frontdoor\n",
      "No such variable(s) found!\n",
      "\n"
     ]
    }
   ],
   "source": [
    "identified_estimand = model.identify_effect()\n",
    "print(identified_estimand)"
   ]
  },
  {
   "cell_type": "markdown",
   "id": "3d1f0920",
   "metadata": {},
   "source": [
    "## Step 3 : Estimate the Causal Effect"
   ]
  },
  {
   "cell_type": "code",
   "execution_count": 5,
   "id": "8cab0b4e",
   "metadata": {},
   "outputs": [
    {
     "name": "stdout",
     "output_type": "stream",
     "text": [
      "*** Causal Estimate ***\n",
      "\n",
      "## Identified estimand\n",
      "Estimand type: EstimandType.NONPARAMETRIC_ATE\n",
      "\n",
      "### Estimand : 1\n",
      "Estimand name: backdoor\n",
      "Estimand expression:\n",
      "    d                              \n",
      "──────────(E[STROKE|HEART DISEASE])\n",
      "d[ASPIRIN]                         \n",
      "Estimand assumption 1, Unconfoundedness: If U→{ASPIRIN} and U→STROKE then P(STROKE|ASPIRIN,HEART DISEASE,U) = P(STROKE|ASPIRIN,HEART DISEASE)\n",
      "\n",
      "## Realized estimand\n",
      "b: STROKE~ASPIRIN+HEART DISEASE\n",
      "Target units: ate\n",
      "\n",
      "## Estimate\n",
      "Mean value: -0.061\n",
      "\n"
     ]
    }
   ],
   "source": [
    "estimate = model.estimate_effect(identified_estimand,\n",
    "                                 method_name=\"backdoor.propensity_score_matching\")\n",
    "print(estimate)"
   ]
  },
  {
   "cell_type": "code",
   "execution_count": 6,
   "id": "3876283a",
   "metadata": {},
   "outputs": [
    {
     "name": "stdout",
     "output_type": "stream",
     "text": [
      "Increasing the treatment variable(s) [ASPIRIN] from 0 to 1 causes an increase of -0.061 in the expected value of the outcome [['STROKE']], over the data distribution/population represented by the dataset.\n"
     ]
    }
   ],
   "source": [
    "# Textual Interpreter\n",
    "interpretation = estimate.interpret(method_name=\"textual_effect_interpreter\")"
   ]
  },
  {
   "cell_type": "code",
   "execution_count": 7,
   "id": "24bc5322",
   "metadata": {},
   "outputs": [
    {
     "name": "stdout",
     "output_type": "stream",
     "text": [
      "*** Causal Estimate ***\n",
      "\n",
      "## Identified estimand\n",
      "Estimand type: EstimandType.NONPARAMETRIC_ATE\n",
      "\n",
      "### Estimand : 1\n",
      "Estimand name: backdoor\n",
      "Estimand expression:\n",
      "    d                              \n",
      "──────────(E[STROKE|HEART DISEASE])\n",
      "d[ASPIRIN]                         \n",
      "Estimand assumption 1, Unconfoundedness: If U→{ASPIRIN} and U→STROKE then P(STROKE|ASPIRIN,HEART DISEASE,U) = P(STROKE|ASPIRIN,HEART DISEASE)\n",
      "\n",
      "## Realized estimand\n",
      "b: STROKE~ASPIRIN+HEART DISEASE\n",
      "Target units: att\n",
      "\n",
      "## Estimate\n",
      "Mean value: 0.02065887434247785\n",
      "\n",
      "Causal Estimate is 0.02065887434247785\n"
     ]
    }
   ],
   "source": [
    "causal_estimate_strat = model.estimate_effect(identified_estimand,\n",
    "                                              method_name=\"backdoor.propensity_score_stratification\",\n",
    "                                              target_units=\"att\")\n",
    "print(causal_estimate_strat)\n",
    "print(\"Causal Estimate is \" + str(causal_estimate_strat.value))"
   ]
  },
  {
   "cell_type": "code",
   "execution_count": 8,
   "id": "70ae4aac",
   "metadata": {},
   "outputs": [
    {
     "name": "stdout",
     "output_type": "stream",
     "text": [
      "*** Causal Estimate ***\n",
      "\n",
      "## Identified estimand\n",
      "Estimand type: EstimandType.NONPARAMETRIC_ATE\n",
      "\n",
      "### Estimand : 1\n",
      "Estimand name: backdoor\n",
      "Estimand expression:\n",
      "    d                              \n",
      "──────────(E[STROKE|HEART DISEASE])\n",
      "d[ASPIRIN]                         \n",
      "Estimand assumption 1, Unconfoundedness: If U→{ASPIRIN} and U→STROKE then P(STROKE|ASPIRIN,HEART DISEASE,U) = P(STROKE|ASPIRIN,HEART DISEASE)\n",
      "\n",
      "## Realized estimand\n",
      "b: STROKE~ASPIRIN+HEART DISEASE\n",
      "Target units: ate\n",
      "\n",
      "## Estimate\n",
      "Mean value: 0.021666341752483054\n",
      "\n",
      "Causal Estimate is 0.021666341752483054\n",
      "Increasing the treatment variable(s) [ASPIRIN] from 0 to 1 causes an increase of 0.021666341752483054 in the expected value of the outcome [['STROKE']], over the data distribution/population represented by the dataset.\n"
     ]
    }
   ],
   "source": [
    "causal_estimate_ipw = model.estimate_effect(identified_estimand,\n",
    "                                            method_name=\"backdoor.propensity_score_weighting\",\n",
    "                                            target_units = \"ate\",\n",
    "                                            method_params={\"weighting_scheme\":\"ips_weight\"})\n",
    "print(causal_estimate_ipw)\n",
    "print(\"Causal Estimate is \" + str(causal_estimate_ipw.value))\n",
    "# Textual Interpreter\n",
    "interpretation = causal_estimate_ipw.interpret(method_name=\"textual_effect_interpreter\")"
   ]
  },
  {
   "cell_type": "code",
   "execution_count": 9,
   "id": "7e0055fc",
   "metadata": {},
   "outputs": [
    {
     "data": {
      "image/png": "[encoded data removed]",
      "text/plain": [
       "<Figure size 640x480 with 1 Axes>"
      ]
     },
     "metadata": {},
     "output_type": "display_data"
    }
   ],
   "source": [
    "# Plotting the causal effect\n",
    "plt.hist(causal_estimate_ipw.propensity_scores, bins=30, density=True)\n",
    "plt.xlabel('Causal Effect (Increase in stroke)')\n",
    "plt.ylabel('Density')\n",
    "plt.title('Distribution of Estimated Causal Effects')\n",
    "plt.show()\n"
   ]
  },
  {
   "cell_type": "code",
   "execution_count": 10,
   "id": "b9ce79c5",
   "metadata": {},
   "outputs": [
    {
     "name": "stdout",
     "output_type": "stream",
     "text": [
      "Increasing the treatment variable(s) [ASPIRIN] from 0 to 1 causes an increase of 0.021666341752483054 in the expected value of the outcome [['STROKE']], over the data distribution/population represented by the dataset.\n"
     ]
    }
   ],
   "source": [
    "# Textual Interpreter\n",
    "interpretation = causal_estimate_ipw.interpret(method_name=\"textual_effect_interpreter\")"
   ]
  },
  {
   "cell_type": "code",
   "execution_count": 11,
   "id": "4c1fbeed",
   "metadata": {},
   "outputs": [
    {
     "data": {
      "image/png": "[encoded data removed]",
      "text/plain": [
       "<Figure size 800x800 with 2 Axes>"
      ]
     },
     "metadata": {},
     "output_type": "display_data"
    }
   ],
   "source": [
    "interpretation = causal_estimate_ipw.interpret(method_name=\"confounder_distribution_interpreter\", \n",
    "                                               fig_size=(8,8), font_size=8, \n",
    "                                               var_name='HEART DISEASE', var_type='discrete')"
   ]
  },
  {
   "cell_type": "markdown",
   "id": "6a286700",
   "metadata": {},
   "source": [
    "## Step 4 Refute Estimate"
   ]
  },
  {
   "cell_type": "code",
   "execution_count": 12,
   "id": "1afaa15e",
   "metadata": {},
   "outputs": [],
   "source": [
    "# Step 4: Refute the obtained estimate using multiple robustness checks.\n",
    "refute_results = model.refute_estimate(identified_estimand, estimate,\n",
    "                                       method_name=\"random_common_cause\")"
   ]
  },
  {
   "cell_type": "code",
   "execution_count": 13,
   "id": "ea60f85d",
   "metadata": {},
   "outputs": [
    {
     "name": "stdout",
     "output_type": "stream",
     "text": [
      "Refute: Add a random common cause\n",
      "Estimated effect:-0.061\n",
      "New effect:-0.06099999999999998\n",
      "p value:1.0\n",
      "\n"
     ]
    }
   ],
   "source": [
    "print(refute_results)"
   ]
  },
  {
   "cell_type": "code",
   "execution_count": 14,
   "id": "05b376ea",
   "metadata": {},
   "outputs": [],
   "source": [
    "# Step 4: Refute the obtained estimate using multiple robustness checks.\n",
    "refute_results = model.refute_estimate(identified_estimand, estimate,\n",
    "                                       method_name=\"dummy_outcome_refuter\")\n",
    "\n"
   ]
  },
  {
   "cell_type": "code",
   "execution_count": 15,
   "id": "8faadc65",
   "metadata": {},
   "outputs": [
    {
     "name": "stdout",
     "output_type": "stream",
     "text": [
      "Refute: Use a Dummy Outcome\n",
      "Estimated effect:0\n",
      "New effect:-0.03832908045346368\n",
      "p value:0.86\n",
      "\n"
     ]
    }
   ],
   "source": [
    "print(refute_results[0])"
   ]
  },
  {
   "cell_type": "code",
   "execution_count": 16,
   "id": "cb8bb18f",
   "metadata": {},
   "outputs": [
    {
     "data": {
      "application/vnd.jupyter.widget-view+json": {
       "model_id": "888eeb5a7e4749f29961bdd42d432b88",
       "version_major": 2,
       "version_minor": 0
      },
      "text/plain": [
       "Refuting Estimates:   0%|          | 0/100 [00:00<?, ?it/s]"
      ]
     },
     "metadata": {},
     "output_type": "display_data"
    },
    {
     "name": "stdout",
     "output_type": "stream",
     "text": [
      "Refute: Use a Placebo Treatment\n",
      "Estimated effect:-0.061\n",
      "New effect:-0.0055499999999999985\n",
      "p value:0.97\n",
      "\n"
     ]
    }
   ],
   "source": [
    "res_placebo=model.refute_estimate(identified_estimand, estimate,\n",
    "       method_name=\"placebo_treatment_refuter\", show_progress_bar=True, placebo_type=\"permute\")\n",
    "print(res_placebo)"
   ]
  },
  {
   "cell_type": "code",
   "execution_count": null,
   "id": "802bbfd1",
   "metadata": {},
   "outputs": [],
   "source": []
  }
 ],
 "metadata": {
  "kernelspec": {
   "display_name": "Python 3 (ipykernel)",
   "language": "python",
   "name": "python3"
  },
  "language_info": {
   "codemirror_mode": {
    "name": "ipython",
    "version": 3
   },
   "file_extension": ".py",
   "mimetype": "text/x-python",
   "name": "python",
   "nbconvert_exporter": "python",
   "pygments_lexer": "ipython3",
   "version": "3.10.14"
  }
 },
 "nbformat": 4,
 "nbformat_minor": 5
}
